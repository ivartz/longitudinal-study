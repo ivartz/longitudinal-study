{
 "cells": [
  {
   "cell_type": "markdown",
   "metadata": {},
   "source": [
    "# 4D Radial Basis Function interpolation on time axis using scipy RBF (CPU) and pykeops (GPU)\n",
    "Demo using multiquadric RBF"
   ]
  },
  {
   "cell_type": "code",
   "execution_count": 1,
   "metadata": {},
   "outputs": [],
   "source": [
    "import numpy as np\n",
    "import nibabel as nib"
   ]
  },
  {
   "cell_type": "code",
   "execution_count": 2,
   "metadata": {},
   "outputs": [],
   "source": [
    "imgs = np.array([None]*2)"
   ]
  },
  {
   "cell_type": "code",
   "execution_count": 3,
   "metadata": {},
   "outputs": [],
   "source": [
    "#for i, _ in enumerate(imgs):\n",
    "for i in range(2):\n",
    "    folder = f\"{i+1:02d}\"\n",
    "    imgs[i] = nib.load(\"../../Elies-longitudinal-data-test/\"+folder+\"/Flair.nii.gz\")"
   ]
  },
  {
   "cell_type": "code",
   "execution_count": 4,
   "metadata": {},
   "outputs": [],
   "source": [
    "zrdim, yrdim, xrdim = imgs[0].shape"
   ]
  },
  {
   "cell_type": "code",
   "execution_count": 5,
   "metadata": {},
   "outputs": [],
   "source": [
    "imgs_data = np.array([img.get_fdata(dtype=np.float32) for img in imgs])"
   ]
  },
  {
   "cell_type": "code",
   "execution_count": 6,
   "metadata": {},
   "outputs": [],
   "source": [
    "zdim, ydim, xdim = 10,10,10\n",
    "intervals = (10,)"
   ]
  },
  {
   "cell_type": "code",
   "execution_count": 7,
   "metadata": {},
   "outputs": [
    {
     "data": {
      "text/plain": [
       "(2, 10, 10, 10)"
      ]
     },
     "execution_count": 7,
     "metadata": {},
     "output_type": "execute_result"
    }
   ],
   "source": [
    "#imgs_data = np.random.randn(2,zdim,ydim,xdim)\n",
    "imgs_data = imgs_data[:, zrdim//2:zrdim//2+zdim, yrdim//2:yrdim//2+ydim, xrdim//2:xrdim//2+xdim]\n",
    "imgs_data.shape"
   ]
  },
  {
   "cell_type": "code",
   "execution_count": 8,
   "metadata": {},
   "outputs": [],
   "source": [
    "def gaussian_kernel(x, y, sigma=.1):\n",
    "    x_i = LazyTensor(x[:, None, :])  # (M, 1, :)\n",
    "    y_j = LazyTensor(y[None, :, :])  # (1, N, :)\n",
    "    D_ij = ((x_i - y_j) ** 2).sum(-1)  # (M, N) symbolic matrix of squared distances\n",
    "    return (- D_ij / (2 * sigma ** 2)).exp()  # (M, N) symbolic Gaussian kernel matrix\n",
    "def laplacian_kernel(x, y, sigma=.1):\n",
    "    x_i = LazyTensor(x[:, None, :])  # (M, 1, :)\n",
    "    y_j = LazyTensor(y[None, :, :])  # (1, N, :)\n",
    "    D_ij = ((x_i - y_j) ** 2).sum(-1)  # (M, N) symbolic matrix of squared distances\n",
    "    return (- D_ij.sqrt() / sigma).exp()  # (M, N) symbolic Laplacian kernel matrix\n",
    "def multiquadric_kernel(x, y, epsilon=1):\n",
    "    x_i = LazyTensor(x[:, None, :])  # (M, 1, :)\n",
    "    y_j = LazyTensor(y[None, :, :])  # (1, N, :)\n",
    "    D_ij = ((x_i - y_j) ** 2).sum(-1)  # (M, N) symbolic matrix of squared distances\n",
    "    return ((1/epsilon * D_ij) ** 2 + 1).sqrt()"
   ]
  },
  {
   "cell_type": "code",
   "execution_count": 9,
   "metadata": {},
   "outputs": [],
   "source": [
    "def flatten_tensor(T):\n",
    "    # Flattens the M x N x ..., x D tensor T while preserving original indices\n",
    "    # to the output shape (MxNx...xD, F, M, N, ..., D)\n",
    "    # where F is a vector of the values in T, and M, N, ..., D a vector of \n",
    "    # original indices in each dimension in T (for the values in F).\n",
    "    # https://stackoverflow.com/questions/46135070/generalise-slicing-operation-in-a-numpy-array/46135084#46135084\n",
    "    n = T.ndim\n",
    "    grid = np.ogrid[tuple(map(slice, T.shape))]\n",
    "    out = np.empty(T.shape + (n+1,), dtype=T.dtype)\n",
    "    for i in range(n):\n",
    "        out[...,i+1] = grid[i]\n",
    "    out[...,0] = T\n",
    "    out.shape = (-1,n+1)\n",
    "    # Return everything\n",
    "    return out\n",
    "    # Only return voxels that are not np.nan\n",
    "    #return out[~np.isnan(out[:,0])]\n",
    "    # Only return voxels that are not zero\n",
    "    #return out[out[:,0] != 0]"
   ]
  },
  {
   "cell_type": "code",
   "execution_count": 10,
   "metadata": {},
   "outputs": [],
   "source": [
    "# Flatten the stacked data, for use in Rbf\n",
    "imgs_data_flattened = flatten_tensor(imgs_data)"
   ]
  },
  {
   "cell_type": "code",
   "execution_count": 11,
   "metadata": {},
   "outputs": [],
   "source": [
    "# Get the colums in the flattened data\n",
    "# The voxel values\n",
    "b = imgs_data_flattened[:,0]\n",
    "#\"\"\"\n",
    "# Time coordinates of the voxel values\n",
    "t = imgs_data_flattened[:,1]\n",
    "# Z coordinates of the voxel values\n",
    "z = imgs_data_flattened[:,2]\n",
    "# Y coordinates of the voxel values\n",
    "y = imgs_data_flattened[:,3]\n",
    "# X coordinates of the voxel values\n",
    "x = imgs_data_flattened[:,4]\n",
    "#\"\"\"\n",
    "\n",
    "x_all = imgs_data_flattened[:,1:]"
   ]
  },
  {
   "cell_type": "markdown",
   "metadata": {},
   "source": [
    "## Scipy Rbf (CPU)"
   ]
  },
  {
   "cell_type": "code",
   "execution_count": 12,
   "metadata": {},
   "outputs": [],
   "source": [
    "from scipy.interpolate import Rbf"
   ]
  },
  {
   "cell_type": "code",
   "execution_count": 13,
   "metadata": {},
   "outputs": [
    {
     "data": {
      "text/plain": [
       "'\\n# Make grids of indices with resolutions we want after the interpolation\\ngrids = [np.mgrid[time_idx:time_idx+1:1/interval_duration, 0:zdim, 0:ydim, 0:xdim] for time_idx, interval_duration in enumerate(intervals)]\\n# Stack all grids\\nTI, ZI, YI, XI = np.hstack(tuple(grids))\\n\\n# Create radial basis functions\\n#rbf_clinst = Rbf(t, z, y, x, f, function=\"multiquadric\", norm=\\'euclidean\\')\\nrbf = Rbf(t, z, y, x, b, function=\\'multiquadric\\') # If scipy 1.1.0 , only euclidean, default\\n\\n# Interpolate the voxel values f to have values for the indices in the grids,\\n# resulting in interpolated voxel values FI\\n# This uses the Rbfs\\nFI = rbf(TI, ZI, YI, XI)\\n\\ndata_interpolated = FI\\n\\nvolfig()\\nvolshow(data_interpolated)\\n'"
      ]
     },
     "execution_count": 13,
     "metadata": {},
     "output_type": "execute_result"
    }
   ],
   "source": [
    "\"\"\"\n",
    "# Make grids of indices with resolutions we want after the interpolation\n",
    "grids = [np.mgrid[time_idx:time_idx+1:1/interval_duration, 0:zdim, 0:ydim, 0:xdim] \\\n",
    "for time_idx, interval_duration in enumerate(intervals)]\n",
    "# Stack all grids\n",
    "TI, ZI, YI, XI = np.hstack(tuple(grids))\n",
    "\n",
    "# Create radial basis functions\n",
    "#rbf_clinst = Rbf(t, z, y, x, f, function=\"multiquadric\", norm='euclidean')\n",
    "rbf = Rbf(t, z, y, x, b, function='multiquadric') # If scipy 1.1.0 , only euclidean, default\n",
    "\n",
    "# Interpolate the voxel values f to have values for the indices in the grids,\n",
    "# resulting in interpolated voxel values FI\n",
    "# This uses the Rbfs\n",
    "FI = rbf(TI, ZI, YI, XI)\n",
    "\n",
    "data_interpolated = FI\n",
    "\n",
    "volfig()\n",
    "volshow(data_interpolated)\n",
    "\"\"\""
   ]
  },
  {
   "cell_type": "code",
   "execution_count": 15,
   "metadata": {},
   "outputs": [],
   "source": [
    "import os.path\n",
    "import sys\n",
    "sys.path.append('/home/ivar/Downloads/keops')"
   ]
  },
  {
   "cell_type": "code",
   "execution_count": 16,
   "metadata": {},
   "outputs": [],
   "source": [
    "import torch\n",
    "from pykeops.torch import LazyTensor\n",
    "use_cuda = torch.cuda.is_available()\n",
    "dtype = torch.cuda.FloatTensor if use_cuda else torch.FloatTensor"
   ]
  },
  {
   "cell_type": "code",
   "execution_count": 17,
   "metadata": {},
   "outputs": [
    {
     "data": {
      "text/plain": [
       "0.7770060192334054"
      ]
     },
     "execution_count": 17,
     "metadata": {},
     "output_type": "execute_result"
    }
   ],
   "source": [
    "xi = np.asarray([np.asarray(a, dtype=np.float_).flatten()\n",
    "                              for a in (t, z, y, x)])\n",
    "N = xi.shape[-1]\n",
    "ximax = np.amax(xi, axis=1)\n",
    "ximin = np.amin(xi, axis=1)\n",
    "edges = ximax - ximin\n",
    "edges = edges[np.nonzero(edges)]\n",
    "newepsilon = np.power(np.prod(edges)/N, 1.0/edges.size)\n",
    "newepsilon"
   ]
  },
  {
   "cell_type": "code",
   "execution_count": 18,
   "metadata": {},
   "outputs": [
    {
     "data": {
      "text/plain": [
       "tensor(0.7770, device='cuda:0')"
      ]
     },
     "execution_count": 18,
     "metadata": {},
     "output_type": "execute_result"
    }
   ],
   "source": [
    "epsilon = torch.from_numpy(np.array(newepsilon)).type(dtype)\n",
    "epsilon"
   ]
  },
  {
   "cell_type": "code",
   "execution_count": 19,
   "metadata": {},
   "outputs": [],
   "source": [
    "b = torch.from_numpy(b).type(dtype).view(-1,1)\n",
    "x_all = torch.from_numpy(x_all).type(dtype)"
   ]
  },
  {
   "cell_type": "code",
   "execution_count": 20,
   "metadata": {},
   "outputs": [],
   "source": [
    "#K_xx = gaussian_kernel(x, x, sigma=100)\n",
    "#K_xx = laplacian_kernel(x_all, x_all)\n",
    "K_xx = multiquadric_kernel(x_all, x_all, epsilon=epsilon)"
   ]
  },
  {
   "cell_type": "code",
   "execution_count": 21,
   "metadata": {},
   "outputs": [
    {
     "name": "stdout",
     "output_type": "stream",
     "text": [
      "Compiling libKeOpstorch892fdfdd61 in /home/ivar/Downloads/keops/pykeops/common/../build/build-libKeOpstorch892fdfdd61:\n",
      "       formula: Sum_Reduction((Sqrt((Square((Var(1,1,2) * Sum(Square((Var(2,4,0) - Var(3,4,1)))))) + IntCst(1))) * Var(0,1,1)),0)\n",
      "       aliases: Var(0,1,1); Var(1,1,2); Var(2,4,0); Var(3,4,1); \n",
      "       dtype  : float32\n",
      "... Done.\n"
     ]
    }
   ],
   "source": [
    "alpha = 10  # Ridge regularization\n",
    "a = K_xx.solve(b, alpha=alpha)\n",
    "#a = K_xx.solve(b)"
   ]
  },
  {
   "cell_type": "code",
   "execution_count": 22,
   "metadata": {},
   "outputs": [
    {
     "name": "stdout",
     "output_type": "stream",
     "text": [
      "Compiling libKeOpstorch0b06cb4531 in /home/ivar/Downloads/keops/pykeops/common/../build/build-libKeOpstorch0b06cb4531:\n",
      "       formula: Sum_Reduction((Sqrt((Square((Var(0,1,2) * Sum(Square((Var(1,4,0) - Var(2,4,1)))))) + IntCst(1))) * Var(3,1,1)),0)\n",
      "       aliases: Var(0,1,2); Var(1,4,0); Var(2,4,1); Var(3,1,1); \n",
      "       dtype  : float32\n",
      "... Done.\n"
     ]
    }
   ],
   "source": [
    "#Z = torch.linspace(0, zdim-1, zdim).type(dtype)\n",
    "Z = torch.from_numpy(np.mgrid[0:zdim]).type(dtype)\n",
    "Y = torch.from_numpy(np.mgrid[0:ydim]).type(dtype)\n",
    "X = torch.from_numpy(np.mgrid[0:xdim]).type(dtype)\n",
    "T = torch.stack(tuple(torch.from_numpy(np.mgrid[time_idx:time_idx+1:1/interval_duration]).type(dtype) for time_idx, interval_duration in enumerate(intervals)), dim=0).view(-1)\n",
    "T, Z, Y, X = torch.meshgrid(T, Z, Y, X)\n",
    "t = torch.stack((T.contiguous().view(-1), \\\n",
    "                 Z.contiguous().view(-1), \\\n",
    "                 Y.contiguous().view(-1), \\\n",
    "                 X.contiguous().view(-1)), dim=1)\n",
    "\n",
    "K_tx = multiquadric_kernel(t, x_all, epsilon=epsilon)\n",
    "mean_t = K_tx @ a\n",
    "mean_t = mean_t.view(np.sum(intervals), zdim, ydim, xdim)"
   ]
  }
 ],
 "metadata": {
  "kernelspec": {
   "display_name": "Python 3",
   "language": "python",
   "name": "python3"
  },
  "language_info": {
   "codemirror_mode": {
    "name": "ipython",
    "version": 3
   },
   "file_extension": ".py",
   "mimetype": "text/x-python",
   "name": "python",
   "nbconvert_exporter": "python",
   "pygments_lexer": "ipython3",
   "version": "3.8.1"
  }
 },
 "nbformat": 4,
 "nbformat_minor": 4
}
